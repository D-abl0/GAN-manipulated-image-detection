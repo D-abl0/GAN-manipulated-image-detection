{
  "nbformat": 4,
  "nbformat_minor": 0,
  "metadata": {
    "colab": {
      "provenance": [],
      "gpuType": "T4"
    },
    "kernelspec": {
      "name": "python3",
      "display_name": "Python 3"
    },
    "language_info": {
      "name": "python"
    },
    "accelerator": "GPU"
  },
  "cells": [
    {
      "cell_type": "code",
      "execution_count": null,
      "metadata": {
        "id": "DYVDhQuIXFSt"
      },
      "outputs": [],
      "source": []
    },
    {
      "cell_type": "code",
      "execution_count": null,
      "metadata": {
        "colab": {
          "base_uri": "https://localhost:8080/"
        },
        "id": "fPHn_iPFDLjb",
        "outputId": "b302bbbc-8c2f-4358-f120-79244917bda0"
      },
      "outputs": [
        {
          "output_type": "stream",
          "name": "stdout",
          "text": [
            "Drive already mounted at /content/drive; to attempt to forcibly remount, call drive.mount(\"/content/drive\", force_remount=True).\n"
          ]
        }
      ],
      "source": [
        "from google.colab import drive\n",
        "drive.mount('/content/drive')"
      ]
    },
    {
      "cell_type": "code",
      "source": [
        "import json\n",
        "import glob\n",
        "import numpy as np\n",
        "import cv2\n",
        "\n",
        "# Update the path to the directory where your video files are stored\n",
        "path_to_videos = '/content/drive/MyDrive/newdataset/*.mp4'\n",
        "videos_list = glob.glob(path_to_videos)\n",
        "\n",
        "# Variables to store video information\n",
        "video_counts = []\n",
        "valid_videos = []\n",
        "\n",
        "# Loop through each video in the directory\n",
        "for video in videos_list:\n",
        "    video_capture = cv2.VideoCapture(video)\n",
        "    total_frames = int(video_capture.get(cv2.CAP_PROP_FRAME_COUNT))\n",
        "\n",
        "    # Check if the video has less than 150 frames\n",
        "    if total_frames < 150:\n",
        "        continue\n",
        "\n",
        "    # Add valid video to the list and store the number of frames\n",
        "    valid_videos.append(video)\n",
        "    video_counts.append(total_frames)\n",
        "\n",
        "# Display results\n",
        "print(\"Number of frames: \", video_counts)\n",
        "print(\"Valid videos count: \", len(video_counts))\n",
        "print('Average frames per video:', np.mean(video_counts))\n"
      ],
      "metadata": {
        "colab": {
          "base_uri": "https://localhost:8080/"
        },
        "id": "gu1Qe7NFDhv5",
        "outputId": "7cee2501-4375-4376-9ddd-350ed91603ab"
      },
      "execution_count": null,
      "outputs": [
        {
          "output_type": "stream",
          "name": "stdout",
          "text": [
            "Number of frames:  [300, 300, 300, 300, 300, 300, 300, 300, 300, 300, 300, 300, 300, 300, 300, 300, 300, 300, 300, 300, 300, 300, 300, 300, 300, 300, 300, 300, 300, 300, 300, 300, 300, 300, 300, 300, 300, 300, 300, 300, 300, 300, 300, 300, 300, 300, 300, 300, 300, 300, 300, 300, 300, 300, 300, 300, 300, 300, 300, 300, 300, 300, 300, 300, 300, 300, 300, 300, 300, 300, 300, 300, 300, 300, 300, 300, 300, 300, 300, 300, 300, 300, 300, 300, 300, 300, 300, 300, 300, 300, 300, 300, 300, 300, 300, 300, 300, 300, 300, 300, 300, 300, 300, 300, 300, 300, 300, 300, 300, 300, 300, 300, 300, 300, 300, 300, 300, 300, 300, 300, 300, 300, 300, 300, 300, 300, 300, 300, 300, 300, 300, 300, 300, 300, 300, 300, 300, 300, 300, 300, 300, 300, 300, 300, 300, 300, 300, 300, 300, 300, 300, 300, 300, 300, 300, 300, 300, 300, 300, 300, 300, 300, 300, 300, 300, 300, 300, 300, 300, 300, 300, 300, 300, 300, 300, 300, 300, 300, 300, 300, 300, 300, 300, 300, 300, 300, 300, 300, 300, 300, 300, 300, 300, 300, 300, 300, 300, 300, 300, 300, 300, 300, 300, 300, 300, 300, 300, 300, 300, 300, 300, 300, 300, 300, 300, 300, 300, 300, 300, 300, 300, 300, 300, 300, 300, 300, 300, 300, 300, 300, 300, 300, 300, 300, 300, 300, 300, 300, 300, 300, 300, 300, 300, 300, 300, 300, 300, 300, 300, 300, 300, 300, 300, 300, 300, 300, 300, 300, 300, 300, 300, 300, 300, 300, 300, 300, 300, 300, 300, 300, 300, 300, 300, 300, 300, 300, 300, 300, 300, 300, 300, 300, 300, 300, 300, 300, 300, 300, 300, 300, 300, 300, 300, 300, 300, 300, 300, 300, 300, 300, 300, 300, 300, 300, 300, 300, 300, 300, 300, 300, 300, 300, 300, 300, 300, 300, 300, 300, 300, 300, 300, 300, 300, 300, 300, 300, 300, 300, 300, 300, 300, 300, 300, 300, 300, 300, 300, 300, 300, 300, 300, 300, 300, 300, 300, 300, 300, 300, 300, 300, 300, 300, 300, 300, 300, 300, 300, 300, 300, 300, 300, 300, 300, 300, 300, 300, 300, 300, 300, 300, 300, 300, 300, 300, 300, 300, 300, 300, 300, 300, 300, 300, 300, 300, 300, 300, 300, 300, 300, 300, 300, 300, 300, 300, 300, 300, 300, 300, 300, 300, 300, 300, 300, 300, 300, 300, 300, 300, 300, 300, 300, 300, 300, 300, 300, 300, 300, 300, 300, 300, 300, 300, 300, 300, 300, 300, 300, 300, 300, 300, 300, 300, 300, 300, 300, 300, 300, 300, 300, 300, 300, 300, 300, 300, 300, 300, 300, 300, 300, 300, 300, 300, 300, 300, 300, 300, 300, 300, 300, 300, 300, 300, 300, 300, 300, 300, 300, 300, 300, 300, 300, 300, 300, 300, 300, 300, 300, 300, 300, 300]\n",
            "Valid videos count:  480\n",
            "Average frames per video: 300.0\n"
          ]
        }
      ]
    },
    {
      "cell_type": "code",
      "source": [
        "# Installation commands\n",
        "!pip3 install face_recognition\n",
        "!mkdir '/content/drive/My Drive/new_Face_only_data'\n",
        "\n",
        "import cv2\n",
        "import numpy as np\n",
        "import os\n",
        "import glob\n",
        "import face_recognition\n",
        "from tqdm import tqdm\n",
        "from torchvision import transforms\n",
        "from torch.utils.data import DataLoader, Dataset\n",
        "import matplotlib.pyplot as plt\n",
        "\n",
        "# Function to iterate through video frames\n",
        "def get_video_frames(video_path):\n",
        "    video_capture = cv2.VideoCapture(video_path)\n",
        "    successful = True\n",
        "    while successful:\n",
        "        successful, frame = video_capture.read()\n",
        "        if successful:\n",
        "            yield frame\n",
        "\n",
        "# Function to process videos and extract faces\n",
        "def process_videos(video_paths, output_directory):\n",
        "    existing_videos = glob.glob(os.path.join(output_directory, '*.mp4'))\n",
        "    print(\"Number of videos already processed: \", len(existing_videos))\n",
        "\n",
        "    for video_path in tqdm(video_paths):\n",
        "        output_video_path = os.path.join(output_directory, os.path.basename(video_path))\n",
        "        if glob.glob(output_video_path):\n",
        "            print(\"Video already processed: \", output_video_path)\n",
        "            continue\n",
        "\n",
        "        captured_frames = []\n",
        "        face_frames = []\n",
        "        video_writer = cv2.VideoWriter(output_video_path, cv2.VideoWriter_fourcc(*'MJPG'), 30, (112, 112))\n",
        "\n",
        "        for index, frame in enumerate(get_video_frames(video_path)):\n",
        "            if index <= 20:\n",
        "                captured_frames.append(frame)\n",
        "                if len(captured_frames) == 4:\n",
        "                    detected_faces = face_recognition.batch_face_locations(captured_frames)\n",
        "                    for frame_index, faces in enumerate(detected_faces):\n",
        "                        for face in faces:\n",
        "                            top, right, bottom, left = face\n",
        "                            try:\n",
        "                                face_image = cv2.resize(captured_frames[frame_index][top:bottom, left:right, :], (112, 112))\n",
        "                                video_writer.write(face_image)\n",
        "                            except:\n",
        "                                continue\n",
        "                    captured_frames = []\n",
        "\n",
        "        video_writer.release()\n",
        "\n",
        "# Main processing call\n",
        "video_directory = '/content/drive/My Drive/newdataset'\n",
        "output_directory = '/content/drive/My Drive/new_Face_only_data'\n",
        "video_files = glob.glob(os.path.join(video_directory, '*.mp4'))\n",
        "\n"
      ],
      "metadata": {
        "colab": {
          "base_uri": "https://localhost:8080/"
        },
        "id": "xtgfuziDDhtC",
        "outputId": "b9afcf04-0d84-4f54-81b8-667605ee1758"
      },
      "execution_count": null,
      "outputs": [
        {
          "output_type": "stream",
          "name": "stdout",
          "text": [
            "Requirement already satisfied: face_recognition in /usr/local/lib/python3.10/dist-packages (1.3.0)\n",
            "Requirement already satisfied: face-recognition-models>=0.3.0 in /usr/local/lib/python3.10/dist-packages (from face_recognition) (0.3.0)\n",
            "Requirement already satisfied: Click>=6.0 in /usr/local/lib/python3.10/dist-packages (from face_recognition) (8.1.7)\n",
            "Requirement already satisfied: dlib>=19.7 in /usr/local/lib/python3.10/dist-packages (from face_recognition) (19.24.4)\n",
            "Requirement already satisfied: numpy in /usr/local/lib/python3.10/dist-packages (from face_recognition) (1.25.2)\n",
            "Requirement already satisfied: Pillow in /usr/local/lib/python3.10/dist-packages (from face_recognition) (9.4.0)\n",
            "mkdir: cannot create directory ‘/content/drive/My Drive/new_Face_only_data’: File exists\n"
          ]
        }
      ]
    },
    {
      "cell_type": "code",
      "source": [
        "process_videos(video_files, output_directory)"
      ],
      "metadata": {
        "colab": {
          "base_uri": "https://localhost:8080/"
        },
        "id": "OcNFXBGRDhp7",
        "outputId": "22b0a9c6-9d88-4c0b-a3a3-3767d0856b3a"
      },
      "execution_count": null,
      "outputs": [
        {
          "output_type": "stream",
          "name": "stdout",
          "text": [
            "Number of videos already processed:  128\n"
          ]
        },
        {
          "output_type": "stream",
          "name": "stderr",
          "text": [
            " 26%|██▋       | 127/480 [00:00<00:00, 1262.62it/s]"
          ]
        },
        {
          "output_type": "stream",
          "name": "stdout",
          "text": [
            "Video already processed:  /content/drive/My Drive/new_Face_only_data/wcjudtkzab.mp4\n",
            "Video already processed:  /content/drive/My Drive/new_Face_only_data/nrzgbofbkb.mp4\n",
            "Video already processed:  /content/drive/My Drive/new_Face_only_data/idfnodkdkz.mp4\n",
            "Video already processed:  /content/drive/My Drive/new_Face_only_data/jbxlivgkll.mp4\n",
            "Video already processed:  /content/drive/My Drive/new_Face_only_data/qjeovxqskj.mp4\n",
            "Video already processed:  /content/drive/My Drive/new_Face_only_data/wbuajbdcfs.mp4\n",
            "Video already processed:  /content/drive/My Drive/new_Face_only_data/mueekicuyv.mp4\n",
            "Video already processed:  /content/drive/My Drive/new_Face_only_data/iksxzpqxzi.mp4\n",
            "Video already processed:  /content/drive/My Drive/new_Face_only_data/rxdoimqble.mp4\n",
            "Video already processed:  /content/drive/My Drive/new_Face_only_data/rbhecseopz.mp4\n",
            "Video already processed:  /content/drive/My Drive/new_Face_only_data/knmrhhsnqw.mp4\n",
            "Video already processed:  /content/drive/My Drive/new_Face_only_data/fanibwbmoq.mp4\n",
            "Video already processed:  /content/drive/My Drive/new_Face_only_data/hzlfdbtbau.mp4\n",
            "Video already processed:  /content/drive/My Drive/new_Face_only_data/waucvvmtkq.mp4\n",
            "Video already processed:  /content/drive/My Drive/new_Face_only_data/omphqltjdd.mp4\n",
            "Video already processed:  /content/drive/My Drive/new_Face_only_data/eykkthrnoy.mp4\n",
            "Video already processed:  /content/drive/My Drive/new_Face_only_data/qswlzfgcgj.mp4\n",
            "Video already processed:  /content/drive/My Drive/new_Face_only_data/gxqzavbulk.mp4\n",
            "Video already processed:  /content/drive/My Drive/new_Face_only_data/bfjsthfhbd.mp4\n",
            "Video already processed:  /content/drive/My Drive/new_Face_only_data/kgdvgipvae.mp4\n",
            "Video already processed:  /content/drive/My Drive/new_Face_only_data/mohiqoogpb.mp4\n",
            "Video already processed:  /content/drive/My Drive/new_Face_only_data/sznkemeqro.mp4\n",
            "Video already processed:  /content/drive/My Drive/new_Face_only_data/ejhhokmvpe.mp4\n",
            "Video already processed:  /content/drive/My Drive/new_Face_only_data/rnxzqumvvl.mp4\n",
            "Video already processed:  /content/drive/My Drive/new_Face_only_data/hszwwswewp.mp4\n",
            "Video already processed:  /content/drive/My Drive/new_Face_only_data/yiykshcbaz.mp4\n",
            "Video already processed:  /content/drive/My Drive/new_Face_only_data/ajiyrjfyzp.mp4\n",
            "Video already processed:  /content/drive/My Drive/new_Face_only_data/torjqecxjw.mp4\n",
            "Video already processed:  /content/drive/My Drive/new_Face_only_data/gochxzemmq.mp4\n",
            "Video already processed:  /content/drive/My Drive/new_Face_only_data/fglewmddcn.mp4\n",
            "Video already processed:  /content/drive/My Drive/new_Face_only_data/mnzabbkpmt.mp4\n",
            "Video already processed:  /content/drive/My Drive/new_Face_only_data/wmoqzxddkb.mp4\n",
            "Video already processed:  /content/drive/My Drive/new_Face_only_data/lpgxwdgnio.mp4\n",
            "Video already processed:  /content/drive/My Drive/new_Face_only_data/qclpbcbgeq.mp4\n",
            "Video already processed:  /content/drive/My Drive/new_Face_only_data/dnmowthjcj.mp4\n",
            "Video already processed:  /content/drive/My Drive/new_Face_only_data/wixujncvee.mp4\n",
            "Video already processed:  /content/drive/My Drive/new_Face_only_data/uxuvkrjhws.mp4\n",
            "Video already processed:  /content/drive/My Drive/new_Face_only_data/ebezansurq.mp4\n",
            "Video already processed:  /content/drive/My Drive/new_Face_only_data/jhmliugwqq.mp4\n",
            "Video already processed:  /content/drive/My Drive/new_Face_only_data/prwsfljdjo.mp4\n",
            "Video already processed:  /content/drive/My Drive/new_Face_only_data/qxzuuzvpmg.mp4\n",
            "Video already processed:  /content/drive/My Drive/new_Face_only_data/cekarydqba.mp4\n",
            "Video already processed:  /content/drive/My Drive/new_Face_only_data/ztyvglkcsf.mp4\n",
            "Video already processed:  /content/drive/My Drive/new_Face_only_data/zfrrixsimm.mp4\n",
            "Video already processed:  /content/drive/My Drive/new_Face_only_data/hevcclcklc.mp4\n",
            "Video already processed:  /content/drive/My Drive/new_Face_only_data/ebqceovwpd.mp4\n",
            "Video already processed:  /content/drive/My Drive/new_Face_only_data/bkcyglmfci.mp4\n",
            "Video already processed:  /content/drive/My Drive/new_Face_only_data/wilyayimlj.mp4\n",
            "Video already processed:  /content/drive/My Drive/new_Face_only_data/novarhxpbj.mp4\n",
            "Video already processed:  /content/drive/My Drive/new_Face_only_data/bhbdbhcqlh.mp4\n",
            "Video already processed:  /content/drive/My Drive/new_Face_only_data/xzkikmghps.mp4\n",
            "Video already processed:  /content/drive/My Drive/new_Face_only_data/vhsbatxysm.mp4\n",
            "Video already processed:  /content/drive/My Drive/new_Face_only_data/phjvutxpoi.mp4\n",
            "Video already processed:  /content/drive/My Drive/new_Face_only_data/qiyzfjrloz.mp4\n",
            "Video already processed:  /content/drive/My Drive/new_Face_only_data/llplvmcvbl.mp4\n",
            "Video already processed:  /content/drive/My Drive/new_Face_only_data/kiyvsruaai.mp4\n",
            "Video already processed:  /content/drive/My Drive/new_Face_only_data/auoervelwm.mp4\n",
            "Video already processed:  /content/drive/My Drive/new_Face_only_data/qxmvgpsbpg.mp4\n",
            "Video already processed:  /content/drive/My Drive/new_Face_only_data/iuatfdhkya.mp4\n",
            "Video already processed:  /content/drive/My Drive/new_Face_only_data/bfdopzvxbi.mp4\n",
            "Video already processed:  /content/drive/My Drive/new_Face_only_data/ocgdbrgmtq.mp4\n",
            "Video already processed:  /content/drive/My Drive/new_Face_only_data/jjycletzyl.mp4\n",
            "Video already processed:  /content/drive/My Drive/new_Face_only_data/tsswxgwnta.mp4\n",
            "Video already processed:  /content/drive/My Drive/new_Face_only_data/mttjelpgma.mp4\n",
            "Video already processed:  /content/drive/My Drive/new_Face_only_data/rmlzgerevr.mp4\n",
            "Video already processed:  /content/drive/My Drive/new_Face_only_data/evysmtpnrf.mp4\n",
            "Video already processed:  /content/drive/My Drive/new_Face_only_data/grzszchajr.mp4\n",
            "Video already processed:  /content/drive/My Drive/new_Face_only_data/ylxwcwhjjd.mp4\n",
            "Video already processed:  /content/drive/My Drive/new_Face_only_data/pxcfrszlgi.mp4\n",
            "Video already processed:  /content/drive/My Drive/new_Face_only_data/fhjhvdgmcq.mp4\n",
            "Video already processed:  /content/drive/My Drive/new_Face_only_data/nwvsbmyndn.mp4\n",
            "Video already processed:  /content/drive/My Drive/new_Face_only_data/uvrzaczrbx.mp4\n",
            "Video already processed:  /content/drive/My Drive/new_Face_only_data/ojbnddjuzy.mp4\n",
            "Video already processed:  /content/drive/My Drive/new_Face_only_data/dzkyxbbqkr.mp4\n",
            "Video already processed:  /content/drive/My Drive/new_Face_only_data/akrubjfzzc.mp4\n",
            "Video already processed:  /content/drive/My Drive/new_Face_only_data/oojxonbgow.mp4\n",
            "Video already processed:  /content/drive/My Drive/new_Face_only_data/nzqtvipnoc.mp4\n",
            "Video already processed:  /content/drive/My Drive/new_Face_only_data/lxfrifiujz.mp4\n",
            "Video already processed:  /content/drive/My Drive/new_Face_only_data/kezwvsxxzj.mp4\n",
            "Video already processed:  /content/drive/My Drive/new_Face_only_data/rrwdacnzcd.mp4\n",
            "Video already processed:  /content/drive/My Drive/new_Face_only_data/ijptktlyfr.mp4\n",
            "Video already processed:  /content/drive/My Drive/new_Face_only_data/ypgayhhaxx.mp4\n",
            "Video already processed:  /content/drive/My Drive/new_Face_only_data/wqysrieiqu.mp4\n",
            "Video already processed:  /content/drive/My Drive/new_Face_only_data/nthpnwylxo.mp4\n",
            "Video already processed:  /content/drive/My Drive/new_Face_only_data/pcoxcmtroa.mp4\n",
            "Video already processed:  /content/drive/My Drive/new_Face_only_data/bcjteassyd.mp4\n",
            "Video already processed:  /content/drive/My Drive/new_Face_only_data/ziipxxchai.mp4\n",
            "Video already processed:  /content/drive/My Drive/new_Face_only_data/gpsxfxrjrr.mp4\n",
            "Video already processed:  /content/drive/My Drive/new_Face_only_data/kkbznuwipg.mp4\n",
            "Video already processed:  /content/drive/My Drive/new_Face_only_data/irqzdokcws.mp4\n",
            "Video already processed:  /content/drive/My Drive/new_Face_only_data/htzbnroagi.mp4\n",
            "Video already processed:  /content/drive/My Drive/new_Face_only_data/rayekvigxv.mp4\n",
            "Video already processed:  /content/drive/My Drive/new_Face_only_data/oobeaklccb.mp4\n",
            "Video already processed:  /content/drive/My Drive/new_Face_only_data/eerhmzaebh.mp4\n",
            "Video already processed:  /content/drive/My Drive/new_Face_only_data/zfnbkyefuh.mp4\n",
            "Video already processed:  /content/drive/My Drive/new_Face_only_data/loxagpgfei.mp4\n",
            "Video already processed:  /content/drive/My Drive/new_Face_only_data/fnkdkfajak.mp4\n",
            "Video already processed:  /content/drive/My Drive/new_Face_only_data/yjkcewkhhn.mp4\n",
            "Video already processed:  /content/drive/My Drive/new_Face_only_data/nawtezpgnm.mp4\n",
            "Video already processed:  /content/drive/My Drive/new_Face_only_data/btdxnajogv.mp4\n",
            "Video already processed:  /content/drive/My Drive/new_Face_only_data/tejfudfgpq.mp4\n",
            "Video already processed:  /content/drive/My Drive/new_Face_only_data/dcfodaqazt.mp4\n",
            "Video already processed:  /content/drive/My Drive/new_Face_only_data/tzgoroiixc.mp4\n",
            "Video already processed:  /content/drive/My Drive/new_Face_only_data/fzmnxvmtgh.mp4\n",
            "Video already processed:  /content/drive/My Drive/new_Face_only_data/ayipraspbn.mp4\n",
            "Video already processed:  /content/drive/My Drive/new_Face_only_data/aayfryxljh.mp4\n",
            "Video already processed:  /content/drive/My Drive/new_Face_only_data/ukezkomunq.mp4\n",
            "Video already processed:  /content/drive/My Drive/new_Face_only_data/uazbhwyysx.mp4\n",
            "Video already processed:  /content/drive/My Drive/new_Face_only_data/kbulxcnrhd.mp4\n",
            "Video already processed:  /content/drive/My Drive/new_Face_only_data/zzmgnglanj.mp4\n",
            "Video already processed:  /content/drive/My Drive/new_Face_only_data/ezbvvongzk.mp4\n",
            "Video already processed:  /content/drive/My Drive/new_Face_only_data/yrxljghbmn.mp4\n",
            "Video already processed:  /content/drive/My Drive/new_Face_only_data/bixvunsrsj.mp4\n",
            "Video already processed:  /content/drive/My Drive/new_Face_only_data/sodvtfqbpf.mp4\n",
            "Video already processed:  /content/drive/My Drive/new_Face_only_data/zmxeiipnqb.mp4\n",
            "Video already processed:  /content/drive/My Drive/new_Face_only_data/ilqwcbprqa.mp4\n",
            "Video already processed:  /content/drive/My Drive/new_Face_only_data/hkrhoronxv.mp4\n",
            "Video already processed:  /content/drive/My Drive/new_Face_only_data/sfqwnoixtm.mp4\n",
            "Video already processed:  /content/drive/My Drive/new_Face_only_data/oeuszzavxl.mp4\n",
            "Video already processed:  /content/drive/My Drive/new_Face_only_data/xvpyayjsmf.mp4\n",
            "Video already processed:  /content/drive/My Drive/new_Face_only_data/dajebuxaez.mp4\n",
            "Video already processed:  /content/drive/My Drive/new_Face_only_data/dzojiwfvba.mp4\n",
            "Video already processed:  /content/drive/My Drive/new_Face_only_data/uhrqlmlclw.mp4\n",
            "Video already processed:  /content/drive/My Drive/new_Face_only_data/gfyrsyoruy.mp4\n",
            "Video already processed:  /content/drive/My Drive/new_Face_only_data/kgfjkhfhvg.mp4\n",
            "Video already processed:  /content/drive/My Drive/new_Face_only_data/rzljiqidhj.mp4\n",
            "Video already processed:  /content/drive/My Drive/new_Face_only_data/xemhvuvgrn.mp4\n",
            "Video already processed:  /content/drive/My Drive/new_Face_only_data/ywxpquomgt.mp4\n"
          ]
        },
        {
          "output_type": "stream",
          "name": "stderr",
          "text": [
            "100%|██████████| 480/480 [59:11<00:00,  7.40s/it]\n"
          ]
        }
      ]
    }
  ]
}